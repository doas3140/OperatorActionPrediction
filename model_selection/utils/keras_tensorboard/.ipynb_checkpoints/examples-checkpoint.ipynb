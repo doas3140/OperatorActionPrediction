{
 "cells": [
  {
   "cell_type": "code",
   "execution_count": null,
   "metadata": {},
   "outputs": [],
   "source": [
    "import warnings\n",
    "warnings.filterwarnings('always')\n",
    "from keras_tensorboard import plot_all_plots"
   ]
  },
  {
   "cell_type": "code",
   "execution_count": null,
   "metadata": {},
   "outputs": [],
   "source": [
    "import numpy as np\n",
    "from sklearn.model_selection import train_test_split\n",
    "from sklearn.model_selection import KFold\n",
    "from sklearn.metrics import roc_auc_score, auc, roc_curve\n",
    "import keras\n",
    "from keras import backend as K\n",
    "from keras.models import Model, Sequential\n",
    "from keras.layers import Input, TimeDistributed, Masking, Dropout\n",
    "from keras.layers import Dense, Flatten, MaxPooling2D, Convolution2D\n",
    "from keras.optimizers import Adam\n",
    "from keras.regularizers import l1, l2\n",
    "from keras.callbacks import Callback, LambdaCallback\n",
    "import matplotlib.pyplot as plt\n",
    "from sklearn.model_selection import KFold\n",
    "from keras.utils import to_categorical"
   ]
  },
  {
   "cell_type": "code",
   "execution_count": null,
   "metadata": {},
   "outputs": [],
   "source": [
    "seed = 42\n",
    "np.random.seed(seed)\n",
    "np.set_printoptions(precision=2)"
   ]
  },
  {
   "cell_type": "code",
   "execution_count": null,
   "metadata": {},
   "outputs": [],
   "source": [
    "# Placeholder for data\n",
    "class DataPlaceholder():\n",
    "    def __init__(self):\n",
    "        class DataItem():\n",
    "            def __init__(self):\n",
    "                self.x = None\n",
    "                self.y = None\n",
    "        self.train = DataItem()\n",
    "        self.val = DataItem()\n",
    "        self.test = DataItem()\n",
    "    def print_shapes(self):\n",
    "        print('Train shapes: x={} , y={}'.format(data.train.x.shape,data.train.y.shape))\n",
    "        print('Val shapes  : x={} , y={}'.format(data.val.x.shape,data.val.y.shape))\n",
    "        print('Test shapes : x={} , y={}'.format(data.test.x.shape,data.test.y.shape))"
   ]
  },
  {
   "cell_type": "markdown",
   "metadata": {},
   "source": [
    "# Data prediction Callback"
   ]
  },
  {
   "cell_type": "code",
   "execution_count": null,
   "metadata": {},
   "outputs": [],
   "source": [
    "class PredictData(Callback):\n",
    "    def __init__(self,model,x,y,log_word):\n",
    "        self.x = x; self.y = y; \n",
    "        self.model = model\n",
    "        self.log_word = log_word\n",
    "\n",
    "    def on_epoch_end(self,epoch,logs={}):\n",
    "        logs[self.log_word+'predictions'] = self.model.predict(self.x)\n",
    "        logs[self.log_word+'labels'] = self.y"
   ]
  },
  {
   "cell_type": "markdown",
   "metadata": {},
   "source": [
    "# Scalars Dataset"
   ]
  },
  {
   "cell_type": "code",
   "execution_count": null,
   "metadata": {},
   "outputs": [],
   "source": [
    "from sklearn.datasets import make_regression\n",
    "data = DataPlaceholder()\n",
    "X, y = make_regression(n_samples=100, n_features=5, noise=0.1)\n",
    "y = (y - y.mean())/y.std()\n",
    "X_left, data.test.x, y_left, data.test.y = train_test_split(X,y,test_size=0.2)\n",
    "data.train.x, data.val.x, data.train.y, data.val.y = train_test_split(X_left,y_left,test_size=0.3)\n",
    "data.print_shapes()"
   ]
  },
  {
   "cell_type": "markdown",
   "metadata": {},
   "source": [
    "## Metrics"
   ]
  },
  {
   "cell_type": "code",
   "execution_count": null,
   "metadata": {},
   "outputs": [],
   "source": [
    "def mse(y_true,y_pred):\n",
    "    return np.mean( (y_pred-y_true)**2, axis=None )\n",
    "\n",
    "def std(y_true,y_pred):\n",
    "    return np.std( (y_pred-y_true), axis=None )\n",
    "\n",
    "metrics_functions = {\n",
    "    'mse': mse,\n",
    "    'error_std': std\n",
    "}"
   ]
  },
  {
   "cell_type": "markdown",
   "metadata": {},
   "source": [
    "## Simple Scalar"
   ]
  },
  {
   "cell_type": "code",
   "execution_count": null,
   "metadata": {},
   "outputs": [],
   "source": [
    "# model 1\n",
    "model = Sequential()\n",
    "model.add(Dense(2, activation='relu', input_dim=5))\n",
    "model.add(Dense(1))\n",
    "model.compile(loss='mse',optimizer='adam')\n",
    "\n",
    "callbacks = [\n",
    "    PredictData(model, x=data.train.x, y=data.train.y, log_word=''),\n",
    "    PredictData(model, x=data.val.x  , y=data.val.y  , log_word='val_'),\n",
    "    PredictData(model, x=data.test.x , y=data.test.y , log_word='test_'),\n",
    "]\n",
    "h = model.fit( data.train.x, data.train.y, epochs=30, batch_size=4, verbose=0,\n",
    "                validation_data=(data.val.x,data.val.y), callbacks=callbacks)"
   ]
  },
  {
   "cell_type": "code",
   "execution_count": null,
   "metadata": {},
   "outputs": [],
   "source": [
    "# model 2\n",
    "model = Sequential()\n",
    "model.add(Dense(2, activation='relu', input_dim=5))\n",
    "model.add(Dense(1))\n",
    "model.compile(loss='mse',optimizer='sgd')\n",
    "\n",
    "callbacks = [\n",
    "    PredictData(model, x=data.train.x, y=data.train.y, log_word=''),\n",
    "    PredictData(model, x=data.val.x  , y=data.val.y  , log_word='val_'),\n",
    "    PredictData(model, x=data.test.x , y=data.test.y , log_word='test_'),\n",
    "]\n",
    "h2 = model.fit( data.train.x, data.train.y, epochs=30, batch_size=4, verbose=0,\n",
    "                validation_data=(data.val.x,data.val.y), callbacks=callbacks)"
   ]
  },
  {
   "cell_type": "code",
   "execution_count": null,
   "metadata": {},
   "outputs": [],
   "source": [
    "models = {\n",
    "    'model1':h.history,\n",
    "    'model2':h2.history\n",
    "}\n",
    "plot_all_plots('/tmp/example',models,metrics_functions)"
   ]
  },
  {
   "cell_type": "markdown",
   "metadata": {},
   "source": [
    "## K-Folded Scalar"
   ]
  },
  {
   "cell_type": "code",
   "execution_count": null,
   "metadata": {},
   "outputs": [],
   "source": [
    "# model 1\n",
    "model = Sequential()\n",
    "model.add(Dense(2, activation='relu', input_dim=5))\n",
    "model.add(Dense(1))\n",
    "model.compile(loss='mse',optimizer='adam')\n",
    "\n",
    "ids = np.arange( len(data.train.x) + len(data.val.x) )\n",
    "histories = []\n",
    "for idx_train, idx_valid in KFold(n_splits=5,shuffle=True).split(ids):\n",
    "    data.train.x, data.val.x = X[ idx_train ], X[ idx_valid ]\n",
    "    data.train.y, data.val.y = y[ idx_train ], y[ idx_valid ]\n",
    "    callbacks = [\n",
    "        PredictData(model, x=data.train.x, y=data.train.y, log_word=''),\n",
    "        PredictData(model, x=data.val.x  , y=data.val.y  , log_word='val_'),\n",
    "        PredictData(model, x=data.test.x , y=data.test.y , log_word='test_'),\n",
    "    ]\n",
    "    h = model.fit( data.train.x, data.train.y, epochs=30, batch_size=4, verbose=0,\n",
    "                   validation_data=(data.val.x,data.val.y), callbacks=callbacks)\n",
    "    histories.append(h.history)"
   ]
  },
  {
   "cell_type": "code",
   "execution_count": null,
   "metadata": {},
   "outputs": [],
   "source": [
    "# model 2\n",
    "model = Sequential()\n",
    "model.add(Dense(2, activation='relu', input_dim=5))\n",
    "model.add(Dense(1))\n",
    "model.compile(loss='mse',optimizer='sgd')\n",
    "\n",
    "ids = np.arange( len(data.train.x) + len(data.val.x) )\n",
    "histories2 = []\n",
    "for idx_train, idx_valid in KFold(n_splits=5,shuffle=True).split(ids):\n",
    "    data.train.x, data.val.x = X[ idx_train ], X[ idx_valid ]\n",
    "    data.train.y, data.val.y = y[ idx_train ], y[ idx_valid ]\n",
    "    callbacks = [\n",
    "        PredictData(model, x=data.train.x, y=data.train.y, log_word=''),\n",
    "        PredictData(model, x=data.val.x  , y=data.val.y  , log_word='val_'),\n",
    "        PredictData(model, x=data.test.x , y=data.test.y , log_word='test_'),\n",
    "    ]\n",
    "    h = model.fit( data.train.x, data.train.y, epochs=30, batch_size=4, verbose=0,\n",
    "                   validation_data=(data.val.x,data.val.y), callbacks=callbacks)\n",
    "    histories2.append(h.history)"
   ]
  },
  {
   "cell_type": "code",
   "execution_count": null,
   "metadata": {},
   "outputs": [],
   "source": [
    "models = {\n",
    "    'model1':histories,\n",
    "    'model2':histories2\n",
    "}\n",
    "plot_all_plots('/tmp/example',models,metrics_functions,kfolded=True)"
   ]
  },
  {
   "cell_type": "markdown",
   "metadata": {},
   "source": [
    "# Multi-Class Dataset"
   ]
  },
  {
   "cell_type": "code",
   "execution_count": null,
   "metadata": {},
   "outputs": [],
   "source": [
    "from sklearn.datasets import make_blobs\n",
    "data = DataPlaceholder()\n",
    "X, y = make_blobs(n_samples=100, centers=3, n_features=5)\n",
    "y = to_categorical(y)\n",
    "X_left, data.test.x, y_left, data.test.y = train_test_split(X,y,test_size=0.2)\n",
    "data.train.x, data.val.x, data.train.y, data.val.y = train_test_split(X_left,y_left,test_size=0.3)\n",
    "data.print_shapes()"
   ]
  },
  {
   "cell_type": "code",
   "execution_count": null,
   "metadata": {},
   "outputs": [],
   "source": [
    "index2class_name = {\n",
    "    0:'car',\n",
    "    1:'bike',\n",
    "    2:'plain'\n",
    "}"
   ]
  },
  {
   "cell_type": "markdown",
   "metadata": {},
   "source": [
    "## Metrics"
   ]
  },
  {
   "cell_type": "code",
   "execution_count": null,
   "metadata": {},
   "outputs": [],
   "source": [
    "from sklearn.metrics import accuracy_score, roc_auc_score, \\\n",
    "                            f1_score, recall_score, precision_score\n",
    "\n",
    "def accuracy(y_true,y_pred):\n",
    "    num_classes = y_true.shape[-1]\n",
    "    y_argmax = np.argmax(y_pred,axis=1)\n",
    "    y_pred = to_categorical(y_argmax,num_classes=num_classes)\n",
    "    accs = np.zeros(num_classes)\n",
    "    print(y_true[:10])\n",
    "    print(y_pred[:10])\n",
    "    print(y_pred.shape,y_true.shape)\n",
    "    for i in range(num_classes):\n",
    "        accs[i] = accuracy_score(y_true[:,i],y_pred[:,i])\n",
    "    return accs\n",
    "\n",
    "def weighted_accuracy(weights):\n",
    "    weights = np.array(weights)\n",
    "    def acc(y_true,y_pred):\n",
    "        W = weights[ np.argmax(y_true,axis=1) ]\n",
    "        return np.mean( W * (np.argmax(y_true,axis=1) == np.argmax(y_pred,axis=1)) )\n",
    "    return acc\n",
    "\n",
    "def recall(y_true,y_pred):\n",
    "    num_classes = y_true.shape[-1]\n",
    "    y_argmax = np.argmax(y_pred,axis=1)\n",
    "    y_pred = to_categorical(y_argmax,num_classes=num_classes)\n",
    "    return recall_score(y_true,y_pred,average=None)\n",
    "\n",
    "def precision(y_true,y_pred):\n",
    "    num_classes = y_true.shape[-1]\n",
    "    y_argmax = np.argmax(y_pred,axis=1)\n",
    "    y_pred = to_categorical(y_argmax,num_classes=num_classes)\n",
    "    return precision_score(y_true,y_pred,average=None)\n",
    "\n",
    "metrics_functions = {\n",
    "    'accuracy': accuracy,\n",
    "    'weighted_acc': weighted_accuracy([3,0.1,21]),\n",
    "    'recall':recall,\n",
    "    'precision':precision\n",
    "}"
   ]
  },
  {
   "cell_type": "markdown",
   "metadata": {},
   "source": [
    "## Simple Multi-Class"
   ]
  },
  {
   "cell_type": "code",
   "execution_count": null,
   "metadata": {},
   "outputs": [],
   "source": [
    "# model 1\n",
    "model = Sequential()\n",
    "model.add(Dense(2, activation='relu', input_dim=5))\n",
    "model.add(Dense(3, activation='softmax'))\n",
    "model.compile(loss='mse',optimizer='adam')\n",
    "\n",
    "callbacks = [\n",
    "    PredictData(model, x=data.train.x, y=data.train.y, log_word=''),\n",
    "    PredictData(model, x=data.val.x  , y=data.val.y  , log_word='val_'),\n",
    "    PredictData(model, x=data.test.x , y=data.test.y , log_word='test_'),\n",
    "]\n",
    "h = model.fit( data.train.x, data.train.y, epochs=30, batch_size=4, verbose=0,\n",
    "               validation_data=(data.val.x,data.val.y), callbacks=callbacks)"
   ]
  },
  {
   "cell_type": "code",
   "execution_count": null,
   "metadata": {},
   "outputs": [],
   "source": [
    "# model 2\n",
    "model = Sequential()\n",
    "model.add(Dense(2, activation='relu', input_dim=5))\n",
    "model.add(Dense(3, activation='softmax'))\n",
    "model.compile(loss='mse',optimizer='sgd')\n",
    "\n",
    "callbacks = [\n",
    "    PredictData(model, x=data.train.x, y=data.train.y, log_word=''),\n",
    "    PredictData(model, x=data.val.x  , y=data.val.y  , log_word='val_'),\n",
    "    PredictData(model, x=data.test.x , y=data.test.y , log_word='test_'),\n",
    "]\n",
    "h2 = model.fit( data.train.x, data.train.y, epochs=30, batch_size=4, verbose=0,\n",
    "               validation_data=(data.val.x,data.val.y), callbacks=callbacks)"
   ]
  },
  {
   "cell_type": "code",
   "execution_count": null,
   "metadata": {},
   "outputs": [],
   "source": [
    "models = {\n",
    "    'model1':h.history,\n",
    "    'model2':h2.history\n",
    "}\n",
    "plot_all_plots('/tmp/example',models,metrics_functions,kfolded=False,pr_curve=True)"
   ]
  },
  {
   "cell_type": "markdown",
   "metadata": {},
   "source": [
    "## K-Folded Multi-Class"
   ]
  },
  {
   "cell_type": "code",
   "execution_count": null,
   "metadata": {},
   "outputs": [],
   "source": [
    "# model 1\n",
    "model = Sequential()\n",
    "model.add(Dense(2, activation='relu', input_dim=5))\n",
    "model.add(Dense(3, activation='softmax'))\n",
    "model.compile(loss='mse',optimizer='adam')\n",
    "\n",
    "ids = np.arange( len(data.train.x) + len(data.val.x) )\n",
    "histories = []\n",
    "for idx_train, idx_valid in KFold(n_splits=5,shuffle=True).split(ids):\n",
    "    data.train.x, data.val.x = X[ idx_train ], X[ idx_valid ]\n",
    "    data.train.y, data.val.y = y[ idx_train ], y[ idx_valid ]\n",
    "    callbacks = [\n",
    "        PredictData(model, x=data.train.x, y=data.train.y, log_word=''),\n",
    "        PredictData(model, x=data.val.x  , y=data.val.y  , log_word='val_'),\n",
    "        PredictData(model, x=data.test.x , y=data.test.y , log_word='test_'),\n",
    "    ]\n",
    "    h = model.fit( data.train.x, data.train.y, epochs=30, batch_size=4, verbose=0,\n",
    "                   validation_data=(data.val.x,data.val.y), callbacks=callbacks)\n",
    "    histories.append(h.history)"
   ]
  },
  {
   "cell_type": "code",
   "execution_count": null,
   "metadata": {},
   "outputs": [],
   "source": [
    "# model 2\n",
    "model = Sequential()\n",
    "model.add(Dense(2, activation='relu', input_dim=5))\n",
    "model.add(Dense(3, activation='softmax'))\n",
    "model.compile(loss='mse',optimizer='sgd')\n",
    "\n",
    "ids = np.arange( len(data.train.x) + len(data.val.x) )\n",
    "histories2 = []\n",
    "for idx_train, idx_valid in KFold(n_splits=5,shuffle=True).split(ids):\n",
    "    data.train.x, data.val.x = X[ idx_train ], X[ idx_valid ]\n",
    "    data.train.y, data.val.y = y[ idx_train ], y[ idx_valid ]\n",
    "    callbacks = [\n",
    "        PredictData(model, x=data.train.x, y=data.train.y, log_word=''),\n",
    "        PredictData(model, x=data.val.x  , y=data.val.y  , log_word='val_'),\n",
    "        PredictData(model, x=data.test.x , y=data.test.y , log_word='test_'),\n",
    "    ]\n",
    "    h = model.fit( data.train.x, data.train.y, epochs=30, batch_size=4, verbose=0,\n",
    "                   validation_data=(data.val.x,data.val.y), callbacks=callbacks)\n",
    "    histories2.append(h.history)"
   ]
  },
  {
   "cell_type": "code",
   "execution_count": null,
   "metadata": {},
   "outputs": [],
   "source": [
    "models = {\n",
    "    'model1':histories,\n",
    "    'model2':histories\n",
    "}\n",
    "plot_all_plots('/tmp/multi_kfold_example',models,metrics_functions,index2class_name,kfolded=True,pr_curve=True)"
   ]
  },
  {
   "cell_type": "code",
   "execution_count": null,
   "metadata": {},
   "outputs": [],
   "source": []
  }
 ],
 "metadata": {
  "kernelspec": {
   "display_name": "Python 3",
   "language": "python",
   "name": "python3"
  },
  "language_info": {
   "codemirror_mode": {
    "name": "ipython",
    "version": 3
   },
   "file_extension": ".py",
   "mimetype": "text/x-python",
   "name": "python",
   "nbconvert_exporter": "python",
   "pygments_lexer": "ipython3",
   "version": "3.6.5"
  }
 },
 "nbformat": 4,
 "nbformat_minor": 2
}
